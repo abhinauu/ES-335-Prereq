{
 "cells": [
  {
   "cell_type": "markdown",
   "metadata": {},
   "source": [
    "# ES 335 Prerequisite Test"
   ]
  },
  {
   "cell_type": "markdown",
   "metadata": {},
   "source": [
    "#### 1. How many multiplications and additions do you need to perform a matrix multiplication between a (n, k) and (k, m) matrix? Explain.\n",
    "\n"
   ]
  },
  {
   "cell_type": "markdown",
   "metadata": {},
   "source": [
    "The resulting matrix would be a (n,m) matrix. An element (i,j) of the matrix can be computed as the dot product of the $i^{th}$ row of the (n,k) matrix and $j^{th}$ column of the (k,m) matrix. The dot product of 2 k-dimensional vectors requires k multiplications and k-1 additions. Since the resulting matrix has n*m elements, the total number of multiplications and additions would be n * m * k and n * m * (k-1) respectively. "
   ]
  },
  {
   "cell_type": "markdown",
   "metadata": {},
   "source": [
    "#### 2. Write Python code to multiply the above two matrices. Solve using list of lists and then use numpy. Compare the timing of both solutions. Which one is faster? Why?"
   ]
  },
  {
   "cell_type": "code",
   "execution_count": 7,
   "metadata": {},
   "outputs": [],
   "source": [
    "import numpy as np \n",
    "\n",
    "# List approach\n",
    "def list_multiply(A,B):\n",
    "    n, k1 = len(A), len(A[0])\n",
    "    k2, m = len(B), len(B[0])\n",
    "\n",
    "    if k1 != k2:\n",
    "        raise ValueError(\"Matrix dimensions incompatible for operation\")\n",
    "    else:\n",
    "        C = [[0 for j in range(m)] for i in range(n)]\n",
    "        for i in range(n):\n",
    "            for j in range(m):\n",
    "                for k in range(k1):\n",
    "                    C[i][j] += A[i][k]*B[k][j]\n",
    "        return C\n",
    "\n",
    "# Numpy approach\n",
    "def numpy_multiply(A,B):\n",
    "    return np.dot(A,B)  "
   ]
  },
  {
   "cell_type": "code",
   "execution_count": 12,
   "metadata": {},
   "outputs": [
    {
     "name": "stdout",
     "output_type": "stream",
     "text": [
      "Answer computed by list approach:  [[2456561, 1551718, 1934414, 2851816, 2457353, 2676282, 2396889, 1817541, 1975148, 2680829, 1472533, 2996902, 1994462], [3026513, 2518905, 2047586, 2544227, 2351399, 3471124, 2947183, 2285545, 2570081, 2218522, 2096022, 2916295, 2604773], [3558753, 2742134, 2269178, 3648636, 3099348, 4308630, 2860797, 2616256, 2321532, 2723832, 2244979, 3375299, 2551777], [3336846, 2166086, 2161178, 2992273, 2859019, 3923547, 3024344, 2660957, 2387885, 3161420, 2191059, 3838221, 2668147], [2202060, 1776862, 1638606, 2508366, 2129351, 3261831, 1988546, 1631453, 1923092, 1719552, 1248078, 2456439, 2032982], [3359696, 2369174, 2053428, 3035406, 3007770, 3712173, 2925467, 2662373, 2225171, 2953702, 2370686, 3572406, 2810923], [2981337, 2090022, 1698158, 2419443, 2329592, 3427565, 2848347, 2154778, 2083823, 2156981, 1931870, 2748879, 2253447]]\n",
      "Time taken by list approach:  0.0020372867584228516 s\n",
      "Answer computed by numpy approach:  [[2456561 1551718 1934414 2851816 2457353 2676282 2396889 1817541 1975148\n",
      "  2680829 1472533 2996902 1994462]\n",
      " [3026513 2518905 2047586 2544227 2351399 3471124 2947183 2285545 2570081\n",
      "  2218522 2096022 2916295 2604773]\n",
      " [3558753 2742134 2269178 3648636 3099348 4308630 2860797 2616256 2321532\n",
      "  2723832 2244979 3375299 2551777]\n",
      " [3336846 2166086 2161178 2992273 2859019 3923547 3024344 2660957 2387885\n",
      "  3161420 2191059 3838221 2668147]\n",
      " [2202060 1776862 1638606 2508366 2129351 3261831 1988546 1631453 1923092\n",
      "  1719552 1248078 2456439 2032982]\n",
      " [3359696 2369174 2053428 3035406 3007770 3712173 2925467 2662373 2225171\n",
      "  2953702 2370686 3572406 2810923]\n",
      " [2981337 2090022 1698158 2419443 2329592 3427565 2848347 2154778 2083823\n",
      "  2156981 1931870 2748879 2253447]]\n",
      "Time taken by numpy approach:  0.0 s\n"
     ]
    }
   ],
   "source": [
    "import time\n",
    "\n",
    "# Generate two random matrices to test the time\n",
    "A = np.random.randint(1, 1000, size=(7, 11))\n",
    "B = np.random.randint(1, 1000, size=(11, 13))\n",
    "\n",
    "start = time.time()\n",
    "c = list_multiply(A,B)\n",
    "end = time.time()\n",
    "print(\"Answer computed by list approach: \",c) \n",
    "print(\"Time taken by list approach: \", end-start,\"s\")\n",
    "\n",
    "start = time.time()\n",
    "c = numpy_multiply(A,B)\n",
    "end = time.time()\n",
    "print(\"Answer computed by numpy approach: \",c) \n",
    "print(\"Time taken by numpy approach: \", end-start,\"s\")"
   ]
  },
  {
   "cell_type": "markdown",
   "metadata": {},
   "source": [
    "Clearly numpy is faster than using lists to perform matrix multiplication. This is due to a few reasons. Numpy uses numpy arrays instead of lists which are stored contiguously in memory and each element can be accessed faster. Numpy also uses vectorization which performs multiple operations parallely instead of doing them serially using loops making it faster."
   ]
  },
  {
   "cell_type": "markdown",
   "metadata": {},
   "source": [
    "#### 3. Finding the highest element in a list requires one pass of the array. Finding the second highest element requires 2 passes of the the array. Using this method, what is the time complexity of finding the median of the array? Can you suggest a better method? Can you implement both these methods in Python and compare against numpy.median routine in terms of time?"
   ]
  },
  {
   "cell_type": "markdown",
   "metadata": {},
   "source": [
    "Method 1: Depending on whether n is odd or even, we will need to make n/2 or n/2 + 1 passes of the list. Each pass is O(n) operation and hence the effective time complexity comes out to be O(n^2)\n",
    "\n",
    "Method 2: A better method would be to use a sorting algorithm like quicksort with O(n log n) time complexity to sort the list and compute the median of the sorted list which is a O(1) operation. The effective time complexity is O(n log n)"
   ]
  },
  {
   "cell_type": "code",
   "execution_count": 119,
   "metadata": {},
   "outputs": [
    {
     "name": "stdout",
     "output_type": "stream",
     "text": [
      "6\n",
      "Time: 0.0014116764068603516 s\n"
     ]
    }
   ],
   "source": [
    "import numpy as np\n",
    "import time\n",
    "# Pass Approach\n",
    "arr=np.array([6, 3, 7, 4, 5, 9, 2, 8, 10, 1, 11])\n",
    "high=np.array([0,0,0,0,0,0]) \n",
    "start=time.time()\n",
    "\n",
    "for i in range(6):\n",
    "    if i==0:\n",
    "        for j in arr:\n",
    "            if j>high[i]:\n",
    "                high[i]=j\n",
    "    else:\n",
    "        for j in arr:\n",
    "            if high[i-1]>j>high[i]:\n",
    "                high[i]=j\n",
    "\n",
    "print(high[5])\n",
    "print(f'Time: {time.time() - start}', 's')"
   ]
  },
  {
   "cell_type": "code",
   "execution_count": 133,
   "metadata": {},
   "outputs": [
    {
     "name": "stdout",
     "output_type": "stream",
     "text": [
      "6\n",
      "Time: 0.0009996891021728516 s\n"
     ]
    }
   ],
   "source": [
    "import numpy as np\n",
    "import time\n",
    "# Sorting Approach\n",
    "arr=np.array([6, 3, 7, 4, 5, 9, 2, 8, 10, 1, 11])\n",
    "sort = np.sort(arr)\n",
    "start=time.time()\n",
    "print(sort[5])\n",
    "print(f'Time: {time.time() - start}','s')"
   ]
  },
  {
   "cell_type": "code",
   "execution_count": 142,
   "metadata": {},
   "outputs": [
    {
     "name": "stdout",
     "output_type": "stream",
     "text": [
      "6.0\n",
      "Time: 0.0001990795135498047\n"
     ]
    }
   ],
   "source": [
    "import numpy as np\n",
    "import time\n",
    "#  Numpy.median() Approach\n",
    "arr=np.array([6, 3, 7, 4, 5, 9, 2, 8, 10, 1, 11])\n",
    "start=time.time()\n",
    "print(np.median(arr))\n",
    "print(f'Time: {time.time() - start}','s')"
   ]
  },
  {
   "cell_type": "markdown",
   "metadata": {},
   "source": [
    "The runtimes are in order\n",
    "\n",
    "numpy (0.00019s) <  sort (0.00099s) < pass (0.00141s)"
   ]
  },
  {
   "cell_type": "markdown",
   "metadata": {},
   "source": [
    "#### 4. What is the gradient of the following function with respect to x and y?"
   ]
  },
  {
   "cell_type": "markdown",
   "metadata": {},
   "source": [
    "Gradient wrt x: 2xy + y^3 cos(x)\n",
    "\n",
    "Gradient wrt y: x^2 + 3y^2 sin(x)"
   ]
  },
  {
   "cell_type": "markdown",
   "metadata": {},
   "source": [
    "#### 5. Use JAX to confirm the gradient evaluated by your method matches the analytical solution corresponding to a few random values of x and y."
   ]
  },
  {
   "cell_type": "code",
   "execution_count": 149,
   "metadata": {},
   "outputs": [
    {
     "name": "stdout",
     "output_type": "stream",
     "text": [
      "Analytical Gradients: 0.7640352 , 28.55103\n",
      "JAX Gradients: 0.7640352 , 28.55103\n"
     ]
    }
   ],
   "source": [
    "import jax\n",
    "import jax.numpy as jnp\n",
    "\n",
    "def f(x, y):\n",
    "    return x**2 * y + y**3 * jnp.sin(x)\n",
    "\n",
    "def grad_analytical(x, y):\n",
    "    df_dx = 2 * x * y + y**3 * jnp.cos(x)\n",
    "    df_dy = x**2 + 3 * y**2 * jnp.sin(x)\n",
    "    return df_dx, df_dy\n",
    "\n",
    "grad_jax = jax.grad(f, (0, 1))\n",
    "x,y = 2.0,3.0\n",
    "analytical_result = grad_analytical(x,y)\n",
    "jax_result = grad_jax(x,y)\n",
    "\n",
    "print(\"Analytical Gradients:\", analytical_result[0],\",\",analytical_result[1])\n",
    "print(\"JAX Gradients:\", jax_result[0],\",\",jax_result[1])"
   ]
  },
  {
   "cell_type": "markdown",
   "metadata": {},
   "source": [
    "#### 6. Use sympy to confirm that you obtain the same gradient analytically."
   ]
  },
  {
   "cell_type": "code",
   "execution_count": 150,
   "metadata": {},
   "outputs": [
    {
     "name": "stdout",
     "output_type": "stream",
     "text": [
      "Sympy Gradient: (2*x*y + y**3*cos(x), x**2 + 3*y**2*sin(x))\n"
     ]
    }
   ],
   "source": [
    "from sympy import symbols, diff, sin\n",
    "\n",
    "x, y = symbols('x y')\n",
    "f = x**2 * y + y**3 * sin(x)\n",
    "df_dx = diff(f, x)\n",
    "df_dy = diff(f, y)\n",
    "grad = (df_dx, df_dy)\n",
    "print(\"Sympy Gradient:\", grad)"
   ]
  },
  {
   "cell_type": "markdown",
   "metadata": {},
   "source": [
    "#### 7. Create a Python nested dictionary to represent hierarchical information. We want to store record of students and their marks."
   ]
  },
  {
   "cell_type": "code",
   "execution_count": 152,
   "metadata": {},
   "outputs": [],
   "source": [
    "student_records = {\n",
    "    2022: {\n",
    "        'Branch 1': {\n",
    "            22110001: {'Name': 'N1', 'Marks': {'Maths': 100, 'English': 70}},\n",
    "            22110002: {'Name': 'N2', 'Marks': {'Maths': 50, 'English': 60}},\n",
    "            22110003: {'Name': 'N3', 'Marks': {'Maths': 90, 'English': 69}},\n",
    "        },\n",
    "        'Branch 2': {\n",
    "            22110011: {'Name': 'N1', 'Marks': {'Maths': 100, 'English': 70}},\n",
    "            22110012: {'Name': 'N2', 'Marks': {'Maths': 50, 'English': 60}},\n",
    "            22110013: {'Name': 'N3', 'Marks': {'Maths': 90, 'English': 69}},\n",
    "        }\n",
    "    },\n",
    "    2023: {\n",
    "        'Branch 1': {\n",
    "            23110001: {'Name': 'N1', 'Marks': {'Maths': 100, 'English': 70}},\n",
    "            23110002: {'Name': 'N2', 'Marks': {'Maths': 50, 'English': 60}},\n",
    "            23110003: {'Name': 'N3', 'Marks': {'Maths': 90, 'English': 69}},\n",
    "        },\n",
    "        'Branch 2': {},\n",
    "    },\n",
    "    2024: {\n",
    "        'Branch 1': {\n",
    "            23110011: {'Name': 'N1', 'Marks': {'Maths': 100, 'English': 70}},\n",
    "            23110012: {'Name': 'N2', 'Marks': {'Maths': 50, 'English': 60}},\n",
    "            23110013: {'Name': 'N3', 'Marks': {'Maths': 90, 'English': 69}},\n",
    "        },\n",
    "        'Branch 2': {},\n",
    "    },\n",
    "    2025: {\n",
    "        'Branch 1': {\n",
    "            1: {'Name': 'N1', 'Marks': {'Maths': 100, 'English': 70}},\n",
    "            2: {'Name': 'N2', 'Marks': {'Maths': 50, 'English': 60}},\n",
    "            3: {'Name': 'N3', 'Marks': {'Maths': 90, 'English': 69}},\n",
    "        },\n",
    "        'Branch 2': {},\n",
    "    }\n",
    "}"
   ]
  },
  {
   "cell_type": "markdown",
   "metadata": {},
   "source": [
    "#### 8.  Store the same information using Python classes. We have an overall database which is a list of year objects. Each year contains a list of branches. Each branch contains a list of students. Each student has some properties like name, roll number and has marks in some subjects."
   ]
  },
  {
   "cell_type": "code",
   "execution_count": 153,
   "metadata": {},
   "outputs": [],
   "source": [
    "class Student:\n",
    "    def __init__(self, roll_number, name):\n",
    "        self.roll_number = roll_number\n",
    "        self.name = name\n",
    "        self.marks = {}\n",
    "\n",
    "    def add_marks(self, subject, score):\n",
    "        self.marks[subject] = score\n",
    "\n",
    "    def __str__(self):\n",
    "        return f\"Roll Number: {self.roll_number}, Name: {self.name}, Marks: {self.marks}\"\n",
    "\n",
    "\n",
    "class Branch:\n",
    "    def __init__(self, name):\n",
    "        self.name = name\n",
    "        self.students = []\n",
    "\n",
    "    def add_student(self, student):\n",
    "        self.students.append(student)\n",
    "\n",
    "    def __str__(self):\n",
    "        return f\"Branch: {self.name}\\n\" + '\\n'.join(str(student) for student in self.students)\n",
    "\n",
    "\n",
    "class Year:\n",
    "    def __init__(self, year):\n",
    "        self.year = year\n",
    "        self.branches = []\n",
    "\n",
    "    def add_branch(self, branch):\n",
    "        self.branches.append(branch)\n",
    "\n",
    "    def __str__(self):\n",
    "        return f\"Year: {self.year}\\n\" + '\\n'.join(str(branch) for branch in self.branches)\n",
    "    \n",
    "\n",
    "records = []\n",
    "#Add the data to the records\n",
    "student1 = Student(1, 'N')\n",
    "student1.add_marks('Maths', 100)\n",
    "student1.add_marks('English', 70)\n",
    "\n",
    "student2 = Student(2, 'M')\n",
    "student2.add_marks('Maths', 50)\n",
    "student2.add_marks('English', 60)\n",
    "\n",
    "branch1 = Branch('Branch 1')\n",
    "branch1.add_student(student1)\n",
    "branch1.add_student(student2)\n",
    "\n",
    "branch2 = Branch('Branch 2')\n",
    "\n",
    "year2022 = Year(2022)\n",
    "year2022.add_branch(branch1)\n",
    "year2022.add_branch(branch2)\n",
    "\n",
    "year2023 = Year(2023)\n",
    "branch3 = Branch('Branch 1')\n",
    "year2023.add_branch(branch3)\n",
    "records.append(year2022)\n",
    "records.append(year2023)"
   ]
  },
  {
   "cell_type": "markdown",
   "metadata": {},
   "source": [
    "#### 9. Using matplotlib plot the following functions on the domain: x = 0.5 to 100.0 in steps of 0.5.\n",
    "\n"
   ]
  },
  {
   "cell_type": "code",
   "execution_count": 154,
   "metadata": {},
   "outputs": [
    {
     "data": {
      "image/png": "[encoded data removed]",
      "text/plain": [
       "<Figure size 1008x720 with 7 Axes>"
      ]
     },
     "metadata": {
      "needs_background": "light"
     },
     "output_type": "display_data"
    }
   ],
   "source": [
    "import matplotlib.pyplot as plt \n",
    "import numpy as np\n",
    "x = np.arange(0.5, 100.5, 0.5)\n",
    "def func1(x):\n",
    "    return x\n",
    "\n",
    "def func2(x):\n",
    "    return x**2\n",
    "\n",
    "def func3(x):\n",
    "    return x**3 / 100\n",
    "\n",
    "def func4(x):\n",
    "    return np.sin(x)\n",
    "\n",
    "def func5(x):\n",
    "    return np.sin(x) / x\n",
    "\n",
    "def func6(x):\n",
    "    return np.log(x)\n",
    "\n",
    "def func7(x):\n",
    "    return np.exp(x)\n",
    "\n",
    "plt.figure(figsize=(14, 10))\n",
    "plt.subplot(3, 3, 1)\n",
    "plt.plot(x, func1(x))\n",
    "plt.title('y = x')\n",
    "\n",
    "plt.subplot(3, 3, 2)\n",
    "plt.plot(x, func2(x))\n",
    "plt.title('y = x^2')\n",
    "\n",
    "plt.subplot(3, 3, 3)\n",
    "plt.plot(x, func3(x))\n",
    "plt.title('y = x^3/100')\n",
    "\n",
    "plt.subplot(3, 3, 4)\n",
    "plt.plot(x, func4(x))\n",
    "plt.title('y = sin(x)')\n",
    "\n",
    "plt.subplot(3, 3, 5)\n",
    "plt.plot(x, func5(x))\n",
    "plt.title('y = sin(x)/x')\n",
    "\n",
    "plt.subplot(3, 3, 6)\n",
    "plt.plot(x, func6(x))\n",
    "plt.title('y = log(x)')\n",
    "\n",
    "plt.subplot(3, 3, 7)\n",
    "plt.plot(x, func7(x))\n",
    "plt.title('y = e^x')\n",
    "\n",
    "plt.tight_layout()\n",
    "plt.show()\n"
   ]
  },
  {
   "cell_type": "markdown",
   "metadata": {},
   "source": [
    "#### 10.Using numpy generate a matrix of size 20X5 containing random numbers drawn uniformly from the range of 1 to 2. Using Pandas create a dataframe out of this matrix. Name the columns of the dataframe as “a”, “b”, “c”, “d”, “e”. Find the column with the highest standard deviation. Find the row with the lowest mean."
   ]
  },
  {
   "cell_type": "code",
   "execution_count": 155,
   "metadata": {},
   "outputs": [
    {
     "name": "stdout",
     "output_type": "stream",
     "text": [
      "Dataframe:\n",
      "           a         b         c         d         e\n",
      "0   1.431603  1.087698  1.836331  1.091683  1.697024\n",
      "1   1.788497  1.149112  1.725480  1.683725  1.585708\n",
      "2   1.471814  1.278272  1.084627  1.399102  1.126300\n",
      "3   1.953691  1.367902  1.971971  1.617173  1.356935\n",
      "4   1.392294  1.489908  1.609822  1.416089  1.853714\n",
      "5   1.878494  1.154726  1.682235  1.867974  1.394609\n",
      "6   1.996148  1.152531  1.220636  1.039858  1.895772\n",
      "7   1.425646  1.261298  1.277713  1.240389  1.071802\n",
      "8   1.840495  1.180224  1.132446  1.522288  1.483909\n",
      "9   1.099454  1.318148  1.333043  1.715545  1.127705\n",
      "10  1.043492  1.880079  1.368552  1.939983  1.805141\n",
      "11  1.331290  1.277953  1.879052  1.391359  1.221114\n",
      "12  1.082366  1.456362  1.420598  1.871678  1.888774\n",
      "13  1.814949  1.132141  1.988197  1.068432  1.428103\n",
      "14  1.949899  1.777774  1.635227  1.848845  1.404764\n",
      "15  1.177848  1.042928  1.234500  1.887357  1.800611\n",
      "16  1.181947  1.730833  1.365399  1.329304  1.775162\n",
      "17  1.071841  1.364806  1.031403  1.848715  1.261351\n",
      "18  1.558132  1.058052  1.124873  1.488003  1.484225\n",
      "19  1.316897  1.036391  1.277110  1.340270  1.736419\n",
      "Column with the highest standard deviation: a\n",
      "Row with the lowest mean: 7\n"
     ]
    }
   ],
   "source": [
    "import numpy as np\n",
    "import pandas as pd\n",
    "\n",
    "mat = np.random.uniform(1, 2, size=(20, 5))\n",
    "df = pd.DataFrame(mat, columns=['a', 'b', 'c', 'd', 'e'])\n",
    "column_with_highest_std = df.std().idxmax()\n",
    "row_with_lowest_mean = df.mean(axis=1).idxmin()\n",
    "\n",
    "print(\"Dataframe:\")\n",
    "print(df)\n",
    "print(\"Column with the highest standard deviation:\", column_with_highest_std)\n",
    "print(\"Row with the lowest mean:\", row_with_lowest_mean)\n"
   ]
  },
  {
   "cell_type": "markdown",
   "metadata": {},
   "source": [
    "#### 11. Add a new column to the dataframe called “f” which is the sum of the columns “a”, “b”, “c”, “d”, “e”. Create another column called “g”. The value in the column “g” should be “LT8” if the value in the column “f” is less than 8 and “GT8” otherwise. Find the number of rows in the dataframe where the value in the column “g” is “LT8”. Find the standard deviation of the column “f” for the rows where the value in the column “g” is “LT8” and “GT8” respectively."
   ]
  },
  {
   "cell_type": "code",
   "execution_count": 156,
   "metadata": {},
   "outputs": [
    {
     "name": "stdout",
     "output_type": "stream",
     "text": [
      "\n",
      "Number of rows where the value in column 'g' is 'LT8': 17\n",
      "Standard deviation of column 'f' for rows where 'g' is 'LT8': 0.5340062892326687\n",
      "Standard deviation of column 'f' for rows where 'g' is 'GT8': 0.29164123126691627\n"
     ]
    }
   ],
   "source": [
    "df['f'] = df[['a', 'b', 'c', 'd', 'e']].sum(axis=1)\n",
    "df['g'] = np.where(df['f'] < 8, 'LT8', 'GT8')\n",
    "count = df[df['g'] == 'LT8'].shape[0]\n",
    "std_dev_LT8 = df.loc[df['g'] == 'LT8', 'f'].std()\n",
    "std_dev_GT8 = df.loc[df['g'] == 'GT8', 'f'].std()\n",
    "print(\"\\nNumber of rows where the value in column 'g' is 'LT8':\", count)\n",
    "print(\"Standard deviation of column 'f' for rows where 'g' is 'LT8':\", std_dev_LT8)\n",
    "print(\"Standard deviation of column 'f' for rows where 'g' is 'GT8':\", std_dev_GT8)"
   ]
  }
 ],
 "metadata": {
  "kernelspec": {
   "display_name": "Python 3",
   "language": "python",
   "name": "python3"
  },
  "language_info": {
   "codemirror_mode": {
    "name": "ipython",
    "version": 3
   },
   "file_extension": ".py",
   "mimetype": "text/x-python",
   "name": "python",
   "nbconvert_exporter": "python",
   "pygments_lexer": "ipython3",
   "version": "3.10.11"
  }
 },
 "nbformat": 4,
 "nbformat_minor": 2
}
